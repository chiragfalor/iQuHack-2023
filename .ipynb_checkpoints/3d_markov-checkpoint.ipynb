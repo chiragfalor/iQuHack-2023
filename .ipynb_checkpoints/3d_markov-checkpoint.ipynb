{
 "cells": [
  {
   "cell_type": "code",
   "execution_count": 1,
   "id": "6cd08ce9-347b-498e-b46a-1d09cdf19c45",
   "metadata": {},
   "outputs": [],
   "source": [
    "# import packages\n",
    "from qiskit import QuantumCircuit\n",
    "from qiskit.visualization import plot_histogram\n",
    "from qiskit_ionq import IonQProvider\n",
    "\n",
    "provider = IonQProvider(token='vm05jEWtO7zVGE6laZPtx8jbLM66TaS9')\n",
    "backend = provider.get_backend(\"ionq_simulator\")"
   ]
  },
  {
   "cell_type": "code",
   "execution_count": null,
   "id": "f7f676b1-9d24-44af-908d-607526c61e4e",
   "metadata": {},
   "outputs": [],
   "source": [
    "def QuantumCircuitGen(state=None):\n",
    "    three_d_markov = QuantumCircuit(5, 3)\n",
    "    if input is not None:\n",
    "        if state[0] == 1:\n",
    "            three_d_markov.x(0)\n",
    "        if state[1] == 1: \n",
    "            three_d_markov.x(1)\n",
    "        if state[2] == 1:\n",
    "            three_d_markov.x(2)\n",
    "        \n",
    "    three_d_markov.h(3)\n",
    "    three_d_markov.h(4)\n",
    "    three_d_markov.cnot(4, 0)\n",
    "    three_d_markov.x(4)\n",
    "    three_d_markov.cnot(4, 1)\n",
    "    three_d_markov.cnot(3, 2)\n",
    "    three_d_markov.toffoli(4, 3, 1)\n",
    "    three_d_markov.x(4)\n",
    "    three_d_markov.toffoli(4, 3, 0)\n",
    "    three_d_markov.x(4)\n",
    "    three_d_markov.toffoli(4, 3, 2)\n",
    "    three_d_markov.measure([0, 1, 2], [0, 1, 2])\n",
    "    \n",
    "    return three_d_markov\n"
   ]
  },
  {
   "cell_type": "code",
   "execution_count": 10,
   "id": "0e77e93d-bd91-49b7-8b0c-282e21e07913",
   "metadata": {},
   "outputs": [
    {
     "data": {
      "text/html": [
       "<pre style=\"word-wrap: normal;white-space: pre;background: #fff0;line-height: 1.1;font-family: &quot;Courier New&quot;,Courier,monospace\">          ┌───┐                       ┌───┐     ┌─┐        \n",
       "q_0: ─────┤ X ├───────────────────────┤ X ├─────┤M├────────\n",
       "          └─┬─┘     ┌───┐┌───┐     ┌─┐└─┬─┘     └╥┘        \n",
       "q_1: ───────┼───────┤ X ├┤ X ├─────┤M├──┼────────╫─────────\n",
       "            │  ┌───┐└─┬─┘└─┬─┘     └╥┘  │        ║ ┌───┐┌─┐\n",
       "q_2: ───────┼──┤ X ├──┼────┼────────╫───┼────────╫─┤ X ├┤M├\n",
       "     ┌───┐  │  └─┬─┘  │    │        ║   │        ║ └─┬─┘└╥┘\n",
       "q_3: ┤ H ├──┼────■────┼────■────────╫───■────────╫───■───╫─\n",
       "     ├───┤  │  ┌───┐  │    │  ┌───┐ ║   │  ┌───┐ ║   │   ║ \n",
       "q_4: ┤ H ├──■──┤ X ├──■────■──┤ X ├─╫───■──┤ X ├─╫───■───╫─\n",
       "     └───┘     └───┘          └───┘ ║      └───┘ ║       ║ \n",
       "c: 3/═══════════════════════════════╩════════════╩═══════╩═\n",
       "                                    1            0       2 </pre>"
      ],
      "text/plain": [
       "          ┌───┐                       ┌───┐     ┌─┐        \n",
       "q_0: ─────┤ X ├───────────────────────┤ X ├─────┤M├────────\n",
       "          └─┬─┘     ┌───┐┌───┐     ┌─┐└─┬─┘     └╥┘        \n",
       "q_1: ───────┼───────┤ X ├┤ X ├─────┤M├──┼────────╫─────────\n",
       "            │  ┌───┐└─┬─┘└─┬─┘     └╥┘  │        ║ ┌───┐┌─┐\n",
       "q_2: ───────┼──┤ X ├──┼────┼────────╫───┼────────╫─┤ X ├┤M├\n",
       "     ┌───┐  │  └─┬─┘  │    │        ║   │        ║ └─┬─┘└╥┘\n",
       "q_3: ┤ H ├──┼────■────┼────■────────╫───■────────╫───■───╫─\n",
       "     ├───┤  │  ┌───┐  │    │  ┌───┐ ║   │  ┌───┐ ║   │   ║ \n",
       "q_4: ┤ H ├──■──┤ X ├──■────■──┤ X ├─╫───■──┤ X ├─╫───■───╫─\n",
       "     └───┘     └───┘          └───┘ ║      └───┘ ║       ║ \n",
       "c: 3/═══════════════════════════════╩════════════╩═══════╩═\n",
       "                                    1            0       2 "
      ]
     },
     "execution_count": 10,
     "metadata": {},
     "output_type": "execute_result"
    }
   ],
   "source": [
    "three_d_markov.draw()\n"
   ]
  },
  {
   "cell_type": "code",
   "execution_count": 12,
   "id": "013f861d-11c3-4cfa-a5da-f2eccb88832f",
   "metadata": {},
   "outputs": [
    {
     "name": "stdout",
     "output_type": "stream",
     "text": [
      "{'000': 0, '001': 1, '010': 0, '100': 0}\n",
      "{'000': 0.25, '001': 0.25, '010': 0.25, '100': 0.25}\n"
     ]
    }
   ],
   "source": [
    "results_dic = {'000': 0, '100': 0, '010': 0, '001': 0, '110': 0, \n",
    "           '101': 0, '011': 0, '111': 0}\n",
    "\n",
    "for step in range(0, 63):\n",
    "    if step == 0:\n",
    "        circuit = QuantumCircuitGen()\n",
    "        job = backend.run(three_d_markov, shots=1)\n",
    "        result = job.result()\n",
    "        last_state = result.get_counts().keys()[0]\n",
    "        results_dic[last_state] += 1\n",
    "    else:\n",
    "        circuit = QuantumCircuitGen(last_state)\n",
    "        \n",
    "        \n",
    "    \n"
   ]
  },
  {
   "cell_type": "code",
   "execution_count": null,
   "id": "c290a9c8-3721-4a73-86bb-565dc4298b5b",
   "metadata": {},
   "outputs": [],
   "source": [
    "result = job.result()\n",
    "counts = result.get_counts()\n",
    "print(counts)\n",
    "\n",
    "probabilities = result.get_probabilities()\n",
    "print(probabilities)"
   ]
  },
  {
   "cell_type": "code",
   "execution_count": null,
   "id": "3bf24dfb-cb6d-4437-8807-ad3d2b524c5b",
   "metadata": {},
   "outputs": [],
   "source": []
  }
 ],
 "metadata": {
  "kernelspec": {
   "display_name": "Python 3 [IonQ]",
   "language": "python",
   "name": "python3_ionq_6vdluz"
  },
  "language_info": {
   "codemirror_mode": {
    "name": "ipython",
    "version": 3
   },
   "file_extension": ".py",
   "mimetype": "text/x-python",
   "name": "python",
   "nbconvert_exporter": "python",
   "pygments_lexer": "ipython3",
   "version": "3.9.10"
  }
 },
 "nbformat": 4,
 "nbformat_minor": 5
}
